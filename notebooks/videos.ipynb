{
 "cells": [
  {
   "cell_type": "code",
   "execution_count": 1,
   "metadata": {},
   "outputs": [],
   "source": [
    "import sys\n",
    "import pandas as pd\n",
    "sys.path.append(\"../\")\n",
    "\n",
    "# Read the meetings CSV file\n",
    "meeting_data = '../data/meetings.csv'\n",
    "meetings_df = pd.read_csv(meeting_data)"
   ]
  },
  {
   "cell_type": "code",
   "execution_count": 2,
   "metadata": {},
   "outputs": [
    {
     "name": "stderr",
     "output_type": "stream",
     "text": [
      "/var/folders/b8/7gv3b8555kz5nl38l_my03w80000gn/T/ipykernel_40370/3168442509.py:2: UserWarning: Could not infer format, so each element will be parsed individually, falling back to `dateutil`. To ensure parsing is consistent and as-expected, please specify a format.\n",
      "  meetings_df['date'] = pd.to_datetime(meetings_df['date'])\n"
     ]
    },
    {
     "data": {
      "text/html": [
       "<div>\n",
       "<style scoped>\n",
       "    .dataframe tbody tr th:only-of-type {\n",
       "        vertical-align: middle;\n",
       "    }\n",
       "\n",
       "    .dataframe tbody tr th {\n",
       "        vertical-align: top;\n",
       "    }\n",
       "\n",
       "    .dataframe thead th {\n",
       "        text-align: right;\n",
       "    }\n",
       "</style>\n",
       "<table border=\"1\" class=\"dataframe\">\n",
       "  <thead>\n",
       "    <tr style=\"text-align: right;\">\n",
       "      <th></th>\n",
       "      <th>meeting</th>\n",
       "      <th>date</th>\n",
       "      <th>duration</th>\n",
       "      <th>agenda</th>\n",
       "      <th>video</th>\n",
       "      <th>duration_minutes</th>\n",
       "    </tr>\n",
       "  </thead>\n",
       "  <tbody>\n",
       "    <tr>\n",
       "      <th>0</th>\n",
       "      <td>Regular Council Meeting</td>\n",
       "      <td>2025-03-05 17:02:00</td>\n",
       "      <td>00h 39m</td>\n",
       "      <td>https://tulsa-ok.granicus.com/AgendaViewer.php...</td>\n",
       "      <td>https://tulsa-ok.granicus.com/MediaPlayer.php?...</td>\n",
       "      <td>39</td>\n",
       "    </tr>\n",
       "    <tr>\n",
       "      <th>1</th>\n",
       "      <td>Regular Council Meeting</td>\n",
       "      <td>2025-02-26 17:00:00</td>\n",
       "      <td>00h 38m</td>\n",
       "      <td>https://tulsa-ok.granicus.com/AgendaViewer.php...</td>\n",
       "      <td>https://tulsa-ok.granicus.com/MediaPlayer.php?...</td>\n",
       "      <td>38</td>\n",
       "    </tr>\n",
       "    <tr>\n",
       "      <th>2</th>\n",
       "      <td>Regular Council Meeting</td>\n",
       "      <td>2025-02-12 17:00:00</td>\n",
       "      <td>00h 31m</td>\n",
       "      <td>https://tulsa-ok.granicus.com/AgendaViewer.php...</td>\n",
       "      <td>https://tulsa-ok.granicus.com/MediaPlayer.php?...</td>\n",
       "      <td>31</td>\n",
       "    </tr>\n",
       "    <tr>\n",
       "      <th>3</th>\n",
       "      <td>Regular Council Meeting</td>\n",
       "      <td>2025-02-05 17:00:00</td>\n",
       "      <td>00h 29m</td>\n",
       "      <td>https://tulsa-ok.granicus.com/AgendaViewer.php...</td>\n",
       "      <td>https://tulsa-ok.granicus.com/MediaPlayer.php?...</td>\n",
       "      <td>29</td>\n",
       "    </tr>\n",
       "    <tr>\n",
       "      <th>4</th>\n",
       "      <td>Regular Council Meeting</td>\n",
       "      <td>2025-01-29 17:03:00</td>\n",
       "      <td>01h 13m</td>\n",
       "      <td>https://tulsa-ok.granicus.com/AgendaViewer.php...</td>\n",
       "      <td>https://tulsa-ok.granicus.com/MediaPlayer.php?...</td>\n",
       "      <td>73</td>\n",
       "    </tr>\n",
       "  </tbody>\n",
       "</table>\n",
       "</div>"
      ],
      "text/plain": [
       "                   meeting                date duration  \\\n",
       "0  Regular Council Meeting 2025-03-05 17:02:00  00h 39m   \n",
       "1  Regular Council Meeting 2025-02-26 17:00:00  00h 38m   \n",
       "2  Regular Council Meeting 2025-02-12 17:00:00  00h 31m   \n",
       "3  Regular Council Meeting 2025-02-05 17:00:00  00h 29m   \n",
       "4  Regular Council Meeting 2025-01-29 17:03:00  01h 13m   \n",
       "\n",
       "                                              agenda  \\\n",
       "0  https://tulsa-ok.granicus.com/AgendaViewer.php...   \n",
       "1  https://tulsa-ok.granicus.com/AgendaViewer.php...   \n",
       "2  https://tulsa-ok.granicus.com/AgendaViewer.php...   \n",
       "3  https://tulsa-ok.granicus.com/AgendaViewer.php...   \n",
       "4  https://tulsa-ok.granicus.com/AgendaViewer.php...   \n",
       "\n",
       "                                               video  duration_minutes  \n",
       "0  https://tulsa-ok.granicus.com/MediaPlayer.php?...                39  \n",
       "1  https://tulsa-ok.granicus.com/MediaPlayer.php?...                38  \n",
       "2  https://tulsa-ok.granicus.com/MediaPlayer.php?...                31  \n",
       "3  https://tulsa-ok.granicus.com/MediaPlayer.php?...                29  \n",
       "4  https://tulsa-ok.granicus.com/MediaPlayer.php?...                73  "
      ]
     },
     "execution_count": 2,
     "metadata": {},
     "output_type": "execute_result"
    }
   ],
   "source": [
    "# Convert date column to datetime\n",
    "meetings_df['date'] = pd.to_datetime(meetings_df['date'])\n",
    "\n",
    "# Sort by date in descending order (latest first)\n",
    "meetings_df = meetings_df.sort_values('date', ascending=False)\n",
    "\n",
    "city_council_meetings = meetings_df[\n",
    "    meetings_df[\"meeting\"].str.contains(\"Regular Council Meeting\")\n",
    "]\n",
    "\n",
    "city_council_meetings.head()"
   ]
  },
  {
   "cell_type": "code",
   "execution_count": null,
   "metadata": {},
   "outputs": [],
   "source": []
  }
 ],
 "metadata": {
  "kernelspec": {
   "display_name": "TGOV Scraper",
   "language": "python",
   "name": "tgov-scraper"
  },
  "language_info": {
   "codemirror_mode": {
    "name": "ipython",
    "version": 3
   },
   "file_extension": ".py",
   "mimetype": "text/x-python",
   "name": "python",
   "nbconvert_exporter": "python",
   "pygments_lexer": "ipython3",
   "version": "3.10.3"
  }
 },
 "nbformat": 4,
 "nbformat_minor": 2
}
